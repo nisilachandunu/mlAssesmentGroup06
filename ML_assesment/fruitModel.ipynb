{
 "cells": [
  {
   "cell_type": "code",
   "execution_count": null,
   "metadata": {},
   "outputs": [],
   "source": [
    "# ! pip install tensorflow\n",
    "# ! pip install pandas\n",
    "# ! pip install openpyxl\n",
    "! pip install matplotlib==3.7.2"
   ]
  },
  {
   "cell_type": "code",
   "execution_count": 10,
   "metadata": {},
   "outputs": [
    {
     "name": "stdout",
     "output_type": "stream",
     "text": [
      "Requirement already satisfied: h5py in c:\\users\\acer\\miniconda3\\envs\\assesment\\lib\\site-packages (3.10.0)\n",
      "Requirement already satisfied: numpy>=1.17.3 in c:\\users\\acer\\miniconda3\\envs\\assesment\\lib\\site-packages (from h5py) (1.24.3)\n"
     ]
    }
   ],
   "source": [
    "# ! pip uninstall tensorflow\n",
    "# ! pip install pandas\n",
    "# ! pip install openpyxl\n",
    "#! pip install fsspec\n",
    "# pip install Pillow\n",
    "#! pip install tensorflow==2.2.0\n",
    "\n",
    "! pip install h5py\n",
    "\n",
    "#! pip install scipy"
   ]
  },
  {
   "cell_type": "code",
   "execution_count": 1,
   "metadata": {},
   "outputs": [
    {
     "name": "stdout",
     "output_type": "stream",
     "text": [
      "Index(['filename', ' Apple', ' Banana', ' Grapes', ' Kiwi', ' Mango',\n",
      "       ' Orange', ' Pineapple', ' Sugerapple', ' Watermelon'],\n",
      "      dtype='object')\n",
      "Number of images in F:/ML FInal/6/train:  2697\n"
     ]
    }
   ],
   "source": [
    "\n",
    "import pandas as pd\n",
    "import os\n",
    "from tensorflow.keras.preprocessing.image import ImageDataGenerator\n",
    "from tensorflow.keras.applications import MobileNetV2\n",
    "from tensorflow.keras import layers\n",
    "from tensorflow.keras import Model\n",
    "\n",
    "\n",
    "# Define paths\n",
    "data_dir = \"F:/ML FInal/6/train\"\n",
    "csv_path = \"F:/ML FInal/6/train/0_classes.csv\"\n",
    "\n",
    "# Load Excel sheet\n",
    "df = pd.read_csv(csv_path)\n",
    "print(df.columns)\n",
    "\n",
    "image_count = 0\n",
    "for filename in os.listdir(data_dir):\n",
    "    if filename.endswith(\".jpg\") or filename.endswith(\".png\") or filename.endswith(\".jpeg\"):  # Adjust for relevant extensions\n",
    "        image_count += 1\n",
    "\n",
    "print(\"Number of images in \" + data_dir + \": \", image_count)\n",
    "\n",
    "\n"
   ]
  },
  {
   "cell_type": "code",
   "execution_count": 2,
   "metadata": {},
   "outputs": [],
   "source": [
    "# Get a list of all columns\n",
    "all_columns = df.columns.tolist()\n",
    "\n",
    "# Remove the filename column\n",
    "target_columns = [col for col in all_columns if col != 'filename']\n",
    "\n",
    "\n",
    "\n",
    "\n"
   ]
  },
  {
   "cell_type": "code",
   "execution_count": 3,
   "metadata": {},
   "outputs": [
    {
     "name": "stdout",
     "output_type": "stream",
     "text": [
      "Found 2158 validated image filenames.\n",
      "Found 539 validated image filenames.\n",
      "Epoch 1/10\n",
      "67/67 [==============================] - 55s 781ms/step - loss: 0.1228 - accuracy: 0.8269 - val_loss: 0.0402 - val_accuracy: 0.9746\n",
      "Epoch 2/10\n",
      "67/67 [==============================] - 46s 690ms/step - loss: 0.0349 - accuracy: 0.9675 - val_loss: 0.0275 - val_accuracy: 0.9785\n",
      "Epoch 3/10\n",
      "67/67 [==============================] - 45s 676ms/step - loss: 0.0201 - accuracy: 0.9835 - val_loss: 0.0236 - val_accuracy: 0.9824\n",
      "Epoch 4/10\n",
      "67/67 [==============================] - 49s 733ms/step - loss: 0.0129 - accuracy: 0.9915 - val_loss: 0.0183 - val_accuracy: 0.9824\n",
      "Epoch 5/10\n",
      "67/67 [==============================] - 45s 670ms/step - loss: 0.0087 - accuracy: 0.9949 - val_loss: 0.0167 - val_accuracy: 0.9824\n",
      "Epoch 6/10\n",
      "67/67 [==============================] - 45s 671ms/step - loss: 0.0074 - accuracy: 0.9944 - val_loss: 0.0159 - val_accuracy: 0.9824\n",
      "Epoch 7/10\n",
      "67/67 [==============================] - 46s 685ms/step - loss: 0.0052 - accuracy: 0.9958 - val_loss: 0.0133 - val_accuracy: 0.9863\n",
      "Epoch 8/10\n",
      "67/67 [==============================] - 42s 634ms/step - loss: 0.0039 - accuracy: 0.9953 - val_loss: 0.0117 - val_accuracy: 0.9824\n",
      "Epoch 9/10\n",
      "67/67 [==============================] - 43s 641ms/step - loss: 0.0037 - accuracy: 0.9953 - val_loss: 0.0113 - val_accuracy: 0.9824\n",
      "Epoch 10/10\n",
      "67/67 [==============================] - 45s 675ms/step - loss: 0.0027 - accuracy: 0.9967 - val_loss: 0.0118 - val_accuracy: 0.9844\n"
     ]
    }
   ],
   "source": [
    "from tensorflow.keras.preprocessing.image import ImageDataGenerator\n",
    "import scipy\n",
    "#from keras.preprocessing import image\n",
    "# Create an instance of the ImageDataGenerator\n",
    "datagen = ImageDataGenerator(rescale=1./255, validation_split=0.2)\n",
    "\n",
    "# Generate the training and validation data\n",
    "train_generator = datagen.flow_from_dataframe(\n",
    "    dataframe=df,\n",
    "    directory=data_dir,\n",
    "    x_col=\"filename\",\n",
    "    y_col=target_columns,\n",
    "    subset=\"training\",\n",
    "    batch_size=32,\n",
    "    seed=42,\n",
    "    shuffle=True,\n",
    "    class_mode=\"raw\",\n",
    "    target_size=(224, 224)\n",
    ")\n",
    "\n",
    "valid_generator = datagen.flow_from_dataframe(\n",
    "    dataframe=df,\n",
    "    directory=data_dir,\n",
    "    x_col=\"filename\",\n",
    "    y_col=target_columns,\n",
    "    subset=\"validation\",\n",
    "    batch_size=32,\n",
    "\n",
    "    seed=42,\n",
    "    shuffle=True,\n",
    "    class_mode=\"raw\",\n",
    "    target_size=(224, 224)\n",
    ")\n",
    "\n",
    "# Load the MobileNetV2 model\n",
    "base_model = MobileNetV2(input_shape=(224, 224, 3), include_top=False, weights=\"imagenet\")\n",
    "\n",
    "# Freeze the base model layers\n",
    "for layer in base_model.layers:\n",
    "    layer.trainable = False\n",
    "\n",
    "# Add custom layers on top of the base model\n",
    "x = base_model.output\n",
    "x = layers.GlobalAveragePooling2D()(x)\n",
    "x = layers.Dense(128, activation=\"relu\")(x)\n",
    "x = layers.Dropout(0.2)(x)\n",
    "predictions = layers.Dense(len(target_columns), activation=\"sigmoid\")(x)\n",
    "\n",
    "# Create the model\n",
    "model = Model(inputs=base_model.input, outputs=predictions)\n",
    "\n",
    "# Compile the model\n",
    "model.compile(optimizer=\"adam\", loss=\"binary_crossentropy\", metrics=[\"accuracy\"])\n",
    "\n",
    "# Train the model\n",
    "history = model.fit(\n",
    "    train_generator,\n",
    "    steps_per_epoch=train_generator.samples // train_generator.batch_size,\n",
    "    validation_data=valid_generator,\n",
    "    validation_steps=valid_generator.samples // valid_generator.batch_size,\n",
    "    epochs=10\n",
    ")\n",
    "\n"
   ]
  },
  {
   "cell_type": "code",
   "execution_count": 8,
   "metadata": {},
   "outputs": [
    {
     "name": "stdout",
     "output_type": "stream",
     "text": [
      "Index(['filename', ' Apple', ' Banana', ' Grapes', ' Kiwi', ' Mango',\n",
      "       ' Orange', ' Pineapple', ' Sugerapple', ' Watermelon'],\n",
      "      dtype='object')\n",
      "Number of images in F:/ML FInal/6/test:  90\n"
     ]
    }
   ],
   "source": [
    "\n",
    "\n",
    "# Define paths\n",
    "test_dir = \"F:/ML FInal/6/test\"\n",
    "test_csv_path = \"F:/ML FInal/6/test/0_classes.csv\"\n",
    "\n",
    "# Load Excel sheet\n",
    "df_test_dir = pd.read_csv(test_csv_path)\n",
    "print(df_test_dir.columns)\n",
    "\n",
    "image_count = 0\n",
    "for filename in os.listdir(test_dir):\n",
    "    if filename.endswith(\".jpg\") or filename.endswith(\".png\") or filename.endswith(\".jpeg\"):  # Adjust for relevant extensions\n",
    "        image_count += 1\n",
    "\n",
    "print(\"Number of images in \" + test_dir  + \": \", image_count)\n"
   ]
  },
  {
   "cell_type": "code",
   "execution_count": 9,
   "metadata": {},
   "outputs": [
    {
     "name": "stdout",
     "output_type": "stream",
     "text": [
      "Found 90 validated image filenames.\n",
      "3/3 [==============================] - 2s 488ms/step - loss: 0.0287 - accuracy: 0.9667\n",
      "Test Loss: 0.028693431988358498\n",
      "Test Accuracy: 0.9666666388511658\n"
     ]
    }
   ],
   "source": [
    "# Generate the test data\n",
    "test_generator = datagen.flow_from_dataframe(\n",
    "    dataframe=df_test_dir,\n",
    "    directory=test_dir,\n",
    "    x_col=\"filename\",\n",
    "    y_col=target_columns,\n",
    "    batch_size=32,\n",
    "    seed=42,\n",
    "    shuffle=False,  # Don't shuffle test data\n",
    "    class_mode=\"raw\",\n",
    "    target_size=(224, 224)\n",
    ")\n",
    "\n",
    "# Test the model\n",
    "loss, accuracy = model.evaluate(test_generator)\n",
    "\n",
    "print(f\"Test Loss: {loss}\")\n",
    "print(f\"Test Accuracy: {accuracy}\")"
   ]
  },
  {
   "cell_type": "code",
   "execution_count": 12,
   "metadata": {},
   "outputs": [],
   "source": [
    "from keras.models import load_model\n",
    "\n",
    "# returns a compiled model identical to the previous one\n",
    "model = load_model('assesment4_group6.h5')"
   ]
  },
  {
   "cell_type": "code",
   "execution_count": 11,
   "metadata": {},
   "outputs": [
    {
     "name": "stderr",
     "output_type": "stream",
     "text": [
      "c:\\Users\\ACER\\miniconda3\\envs\\assesment\\lib\\site-packages\\keras\\src\\engine\\training.py:3000: UserWarning: You are saving your model as an HDF5 file via `model.save()`. This file format is considered legacy. We recommend using instead the native Keras format, e.g. `model.save('my_model.keras')`.\n",
      "  saving_api.save_model(\n"
     ]
    }
   ],
   "source": [
    "model.save('assesment4_group6.h5')  # creates a HDF5 file 'my_model.h5'"
   ]
  },
  {
   "cell_type": "code",
   "execution_count": 13,
   "metadata": {},
   "outputs": [
    {
     "name": "stdout",
     "output_type": "stream",
     "text": [
      "INFO:tensorflow:Assets written to: F:\\mlModel\\assets\n"
     ]
    },
    {
     "name": "stderr",
     "output_type": "stream",
     "text": [
      "INFO:tensorflow:Assets written to: F:\\mlModel\\assets\n"
     ]
    }
   ],
   "source": [
    "import os\n",
    "import tensorflow as tf\n",
    "from tensorflow.keras.models import save_model\n",
    "\n",
    "# Ensure the directory exists\n",
    "save_directory = 'F:\\mlModel'\n",
    "os.makedirs(save_directory, exist_ok=True)\n",
    "\n",
    "# Save the model using tf.keras.models.save_model\n",
    "save_model(model, save_directory)"
   ]
  }
 ],
 "metadata": {
  "kernelspec": {
   "display_name": "assesment",
   "language": "python",
   "name": "python3"
  },
  "language_info": {
   "codemirror_mode": {
    "name": "ipython",
    "version": 3
   },
   "file_extension": ".py",
   "mimetype": "text/x-python",
   "name": "python",
   "nbconvert_exporter": "python",
   "pygments_lexer": "ipython3",
   "version": "3.8.18"
  }
 },
 "nbformat": 4,
 "nbformat_minor": 2
}
